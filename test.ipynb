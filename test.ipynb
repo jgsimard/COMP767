{
 "cells": [
  {
   "cell_type": "code",
   "execution_count": 1,
   "metadata": {},
   "outputs": [],
   "source": [
    "%load_ext autoreload\n",
    "%autoreload 2\n",
    "\n",
    "import numpy as np\n",
    "import gym\n",
    "\n",
    "import gym_gridworld\n",
    "import dynamic_programming"
   ]
  },
  {
   "cell_type": "code",
   "execution_count": 29,
   "metadata": {},
   "outputs": [
    {
     "name": "stdout",
     "output_type": "stream",
     "text": [
      "\n",
      "\n",
      "POLICY ITERATION\n",
      "Policy found in 4 iterations, where each policy evaluation lasted for k = [64, 17, 14, 7]\n",
      "\n",
      "V\n",
      " [[0.  6.9 8.3 9.6 0. ]\n",
      " [5.3 6.3 7.3 8.4 9.6]\n",
      " [4.9 5.6 6.4 7.3 8.3]\n",
      " [4.3 4.9 5.6 6.4 7.2]\n",
      " [3.9 4.4 4.9 5.6 6.3]]\n",
      "\n",
      "PI\n",
      "■→→→■\n",
      "→→→→↑\n",
      "→→→↑↑\n",
      "↑→↑↑↑\n",
      "→→→↑↑\n"
     ]
    }
   ],
   "source": [
    "def print_policy(policy, terminal_states):\n",
    "    arrows = {0: '\\u2191', 1:'\\u2192' , 2:'\\u2193' , 3:'\\u2190'}\n",
    "    terminal_state = '\\u25A0'\n",
    "    n = int(np.sqrt(len(policy)))\n",
    "    for i in range(n):\n",
    "        string = \"\"\n",
    "        for j in range(n):\n",
    "            ij = i*n + j\n",
    "            if ij in terminal_states:\n",
    "                string += terminal_state\n",
    "            else:\n",
    "                string += arrows[policy[ij]]\n",
    "        print(string)\n",
    "\n",
    "\n",
    "def clean_print(V, PI, k, terminal_states):\n",
    "    if int == type(k):\n",
    "        print(\"Policy found in {} iterations\".format(k))\n",
    "    else:\n",
    "        print(\"Policy found in {} iterations, where each policy evaluation lasted for k = {}\".format(len(k), k))\n",
    "    n = np.sqrt(len(V)).astype(int)\n",
    "    print(\"\\nV\\n\", np.array(V).round(1).reshape((n,n)))\n",
    "    print(\"\\nPI\")\n",
    "    print_policy(PI, terminal_states)\n",
    "    \n",
    "def compute_algorithm(algorithm, algorithm_name, env, dicount_factor, modified_max_k=np.Inf):\n",
    "    if modified_max_k != np.Inf:\n",
    "        V, PI, k = algorithm(env, dicount_factor, modified_max_k = modified_max_k)\n",
    "    else:\n",
    "        V, PI, k = algorithm(env, dicount_factor)\n",
    "    print(\"\\n\\n\"+algorithm_name)\n",
    "    clean_print(V, PI, k, grid_world.terminal_states)\n",
    "\n",
    "\n",
    "\n",
    "env = gym.make(\"gridworld-v0\", n=5, p_action_works=0.75)\n",
    "dicount_factor = 0.9\n",
    "\n",
    "compute_algorithm(dynamic_programming.policy_iteration, \"POLICY ITERATION\", env, dicount_factor)\n",
    "# compute_algorithm(dynamic_programming.policy_iteration, \"MODIFIED POLICY ITERATION\", env, dicount_factor, modified_max_k=2)\n",
    "# compute_algorithm(dynamic_programming.value_iteration, \"VALUE ITERATION\", env, dicount_factor)"
   ]
  }
 ],
 "metadata": {
  "kernelspec": {
   "display_name": "Python 3",
   "language": "python",
   "name": "python3"
  },
  "language_info": {
   "codemirror_mode": {
    "name": "ipython",
    "version": 3
   },
   "file_extension": ".py",
   "mimetype": "text/x-python",
   "name": "python",
   "nbconvert_exporter": "python",
   "pygments_lexer": "ipython3",
   "version": "3.6.7"
  }
 },
 "nbformat": 4,
 "nbformat_minor": 2
}
