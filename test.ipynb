{
 "cells": [
  {
   "cell_type": "code",
   "execution_count": 1,
   "metadata": {},
   "outputs": [],
   "source": [
    "%load_ext autoreload\n",
    "%autoreload 2\n",
    "\n",
    "import gym\n",
    "import numpy as np\n",
    "import matplotlib.pyplot as plt\n",
    "from tqdm import tqdm\n",
    "import sys\n",
    "import multiprocessing\n",
    "\n",
    "#files containing the core algorithms\n",
    "import temporal_difference\n",
    "import function_approximation\n",
    "import utils\n",
    "import policy"
   ]
  },
  {
   "cell_type": "code",
   "execution_count": 150,
   "metadata": {},
   "outputs": [],
   "source": [
    "env = gym.make('MountainCar-v0')\n",
    "env.reset()\n",
    "for _ in range(100):\n",
    "    env.render()\n",
    "    env.step(env.action_space.sample())\n",
    "    \n",
    "env.close()"
   ]
  },
  {
   "cell_type": "code",
   "execution_count": 207,
   "metadata": {},
   "outputs": [
    {
     "name": "stdout",
     "output_type": "stream",
     "text": [
      "<temporal_difference.TrueOnlineSARSA object at 0x7f1b10426978> <TimeLimit<MountainCarEnv<MountainCar-v0>>>\n"
     ]
    }
   ],
   "source": [
    "env = gym.make('MountainCar-v0')\n",
    "\n",
    "discount_rate=0.9\n",
    "learning_rate = 1/8\n",
    "lambda_return = 0.95\n",
    "\n",
    "approximation_function = function_approximation.TileCoding(n_bins=20, n_tilings=4,\n",
    "                                                         observation_space = env.observation_space,\n",
    "                                                           action_space=env.action_space)\n",
    "agent = temporal_difference.TrueOnlineSARSA(env,discount_rate, learning_rate, lambda_return,approximation_function)\n",
    "print(agent, env)\n",
    "for episode in range(400):\n",
    "    agent.episode(env)"
   ]
  },
  {
   "cell_type": "code",
   "execution_count": 211,
   "metadata": {},
   "outputs": [],
   "source": [
    "observation = env.reset()\n",
    "for t in range(1000):\n",
    "    env.render()\n",
    "    observation, reward, done, info = env.step(agent.policy(env, observation))\n",
    "    \n",
    "env.close()"
   ]
  }
 ],
 "metadata": {
  "kernelspec": {
   "display_name": "Python 3",
   "language": "python",
   "name": "python3"
  },
  "language_info": {
   "codemirror_mode": {
    "name": "ipython",
    "version": 3
   },
   "file_extension": ".py",
   "mimetype": "text/x-python",
   "name": "python",
   "nbconvert_exporter": "python",
   "pygments_lexer": "ipython3",
   "version": "3.6.7"
  }
 },
 "nbformat": 4,
 "nbformat_minor": 2
}
