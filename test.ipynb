{
 "cells": [
  {
   "cell_type": "code",
   "execution_count": 2,
   "metadata": {},
   "outputs": [],
   "source": [
    "%load_ext autoreload\n",
    "%autoreload 2\n",
    "\n",
    "import numpy as np\n",
    "import gym"
   ]
  },
  {
   "cell_type": "code",
   "execution_count": 3,
   "metadata": {},
   "outputs": [
    {
     "name": "stdout",
     "output_type": "stream",
     "text": [
      "[ 0.99953841 -0.03038034  0.95853855]\n",
      "[0.99991243 0.01323401 0.8723882 ]\n",
      "[0.99901667 0.0443362  0.62232687]\n",
      "[0.99651498 0.08341395 0.783205  ]\n",
      "[0.99079291 0.13538617 1.04584437]\n",
      "[0.98100154 0.19399993 1.18869396]\n",
      "[0.96335852 0.26821699 1.52607649]\n",
      "[0.93365034 0.35818577 1.89564552]\n",
      "[0.88542491 0.46478245 2.34129779]\n",
      "[0.8192901  0.57337923 2.54471232]\n"
     ]
    }
   ],
   "source": [
    "env = gym.make('Pendulum-v0')\n",
    "\n",
    "observation = env.reset()\n",
    "for t in range(10):\n",
    "    env.render()\n",
    "    print(observation)\n",
    "    action = env.action_space.sample()\n",
    "    observation, reward, done, info = env.step(action)\n",
    "    if done:\n",
    "        print(\"Episode finished after {} timesteps\".format(t+1))\n",
    "        break\n",
    "env.close()"
   ]
  }
 ],
 "metadata": {
  "kernelspec": {
   "display_name": "Python 3",
   "language": "python",
   "name": "python3"
  },
  "language_info": {
   "codemirror_mode": {
    "name": "ipython",
    "version": 3
   },
   "file_extension": ".py",
   "mimetype": "text/x-python",
   "name": "python",
   "nbconvert_exporter": "python",
   "pygments_lexer": "ipython3",
   "version": "3.6.7"
  }
 },
 "nbformat": 4,
 "nbformat_minor": 2
}
