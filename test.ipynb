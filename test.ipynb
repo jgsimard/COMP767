{
 "cells": [
  {
   "cell_type": "code",
   "execution_count": 1,
   "metadata": {},
   "outputs": [],
   "source": [
    "%load_ext autoreload\n",
    "%autoreload 2\n",
    "\n",
    "import gym\n",
    "import numpy as np\n",
    "import matplotlib.pyplot as plt\n",
    "from tqdm import tqdm\n",
    "import sys\n",
    "import multiprocessing\n",
    "\n",
    "#files containing the core algorithms\n",
    "import temporal_difference\n",
    "import function_approximation\n",
    "import utils\n",
    "import policy"
   ]
  },
  {
   "cell_type": "code",
   "execution_count": 2,
   "metadata": {},
   "outputs": [],
   "source": [
    "env = gym.make('MountainCar-v0')\n",
    "env.reset()\n",
    "for _ in range(100):\n",
    "    env.render()\n",
    "    env.step(env.action_space.sample())\n",
    "    \n",
    "env.close()"
   ]
  },
  {
   "cell_type": "code",
   "execution_count": 102,
   "metadata": {
    "scrolled": true
   },
   "outputs": [
    {
     "name": "stderr",
     "output_type": "stream",
     "text": [
      "100%|██████████| 100/100 [00:04<00:00, 20.65it/s]"
     ]
    },
    {
     "name": "stdout",
     "output_type": "stream",
     "text": [
      "[200, 200, 200, 200, 200, 200, 200, 200, 200, 200, 200, 200, 200, 200, 200, 200, 200, 200, 200, 200, 200, 200, 200, 200, 200, 200, 200, 200, 200, 200, 200, 200, 200, 200, 200, 200, 200, 200, 200, 200, 200, 200, 200, 200, 200, 200, 200, 200, 200, 200, 200, 200, 200, 200, 200, 200, 200, 200, 200, 200, 200, 200, 200, 200, 200, 200, 200, 200, 200, 200, 200, 200, 200, 200, 200, 200, 200, 200, 200, 200, 200, 200, 200, 200, 200, 200, 200, 200, 200, 200, 200, 200, 200, 200, 200, 200, 200, 200, 200, 200]\n"
     ]
    },
    {
     "name": "stderr",
     "output_type": "stream",
     "text": [
      "\n"
     ]
    }
   ],
   "source": [
    "env = gym.make('MountainCar-v0')\n",
    "# env = gym.make(\"MountainCar-v0\").env\n",
    "\n",
    "discount_rate=0.5\n",
    "learning_rate = 1/16\n",
    "lambda_return = .8\n",
    "\n",
    "approximation_function = function_approximation.TileCodingDiscreteAction(n_bins=10, \n",
    "                                                                         n_tilings=5,\n",
    "                                                                         observation_space=env.observation_space,\n",
    "                                                                         action_space=env.action_space)\n",
    "agent = temporal_difference.TrueOnlineSARSA(env,discount_rate, learning_rate, lambda_return,approximation_function)\n",
    "times= []\n",
    "for episode in tqdm(range(100)):\n",
    "    t = agent.episode(env)\n",
    "    times.append(t)\n",
    "print(times)"
   ]
  },
  {
   "cell_type": "code",
   "execution_count": 70,
   "metadata": {},
   "outputs": [
    {
     "data": {
      "text/plain": [
       "array([0.82, 0.76, 0.44, 0.43, 0.29, 0.46, 0.57, 0.99, 0.16, 0.13, 0.71,\n",
       "       0.98, 0.97, 0.07, 0.89, 0.3 , 0.31, 0.11, 0.22, 0.36, 0.98, 0.44,\n",
       "       0.46, 0.22, 0.41, 0.54, 0.54, 0.2 , 0.51, 0.39, 0.56, 0.46, 0.95,\n",
       "       0.95, 0.77, 0.64, 0.3 , 0.34, 0.81, 0.08, 0.67, 0.3 , 0.03, 0.92,\n",
       "       0.72, 0.58, 0.95, 0.18, 0.47, 0.35, 0.61, 0.18, 0.19])"
      ]
     },
     "execution_count": 70,
     "metadata": {},
     "output_type": "execute_result"
    }
   ],
   "source": [
    "np.round(agent.weights,2)"
   ]
  },
  {
   "cell_type": "code",
   "execution_count": 101,
   "metadata": {},
   "outputs": [],
   "source": [
    "observation = env.reset()\n",
    "for t in range(1000):\n",
    "    env.render()\n",
    "    a = agent.policy(env, observation)\n",
    "    observation, reward, done, info = env.step(a)\n",
    "    if done:\n",
    "        break\n",
    "    \n",
    "env.close()"
   ]
  }
 ],
 "metadata": {
  "kernelspec": {
   "display_name": "Python 3",
   "language": "python",
   "name": "python3"
  },
  "language_info": {
   "codemirror_mode": {
    "name": "ipython",
    "version": 3
   },
   "file_extension": ".py",
   "mimetype": "text/x-python",
   "name": "python",
   "nbconvert_exporter": "python",
   "pygments_lexer": "ipython3",
   "version": "3.6.7"
  }
 },
 "nbformat": 4,
 "nbformat_minor": 2
}
