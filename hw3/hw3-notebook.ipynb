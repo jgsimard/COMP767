{
  "cells": [
    {
      "cell_type": "markdown",
      "metadata": {
        "pycharm": {}
      },
      "source": [
        "# Policy gradient vs value-based methods [100 points]\n",
        "In this task, you will compare value-based and actor-critic/policy gradient methods for the Mountain-\n",
        "Car task of the classical control suite of the Gym environment: https://gym.openai.com/envs/MountainCar-v0/\n",
        "\n",
        "You will compare Q-learning and actor-critic, and asynchronous versions of these algorithms with\n",
        "4 parallel threads. For the feature representation, please discretize the position and velocity of\n",
        "the car into 32 bins each. Descriptions of all the algorithms are available in the following paper: https://arxiv.org/pdf/1602.01783.pdf\n",
        "\n",
        "\n",
        "You should use the same set of 3 different learning rates for each algorithm and run at least 5\n",
        "independent runs in each case. Write a little report describing your experimental setup (choice of\n",
        "exploration, anything else important), include learning curves for each algorithm with all param-\n",
        "eter settings, and a plot comparing the learning curves of each algorithm obtained with the best\n",
        "parameter setting. Explain what you conclude form these plots."
      ]
    },
    {
      "cell_type": "code",
      "execution_count": 1,
      "metadata": {
        "pycharm": {
          "is_executing": false
        }
      },
      "outputs": [],
      "source": [
        "%load_ext autoreload\n",
        "%autoreload 2\n",
        "\n",
        "import gym\n",
        "import numpy as np\n",
        "import matplotlib.pyplot as plt\n",
        "from tqdm import tqdm\n",
        "import sys\n",
        "import multiprocessing\n",
        "\n",
        "#files containing the core algorithms\n",
        "import temporal_difference\n",
        "import function_approximation\n",
        "import utils\n",
        "import policy"
      ]
    },
    {
      "cell_type": "code",
      "execution_count": 2,
      "metadata": {
        "pycharm": {
          "is_executing": false
        }
      },
      "outputs": [],
      "source": [
        "env \u003d gym.make(\u0027MountainCar-v0\u0027)\n",
        "\n",
        "discount_rate \u003d 1\n",
        "learning_rate \u003d 1/16\n",
        "lambda_return \u003d 0.5\n",
        "n_bins \u003d 32\n",
        "n_tilings \u003d 5\n",
        "\n",
        "approximation_function \u003d function_approximation.TileCoding(n_bins\u003dn_bins,\n",
        "                                                           n_tilings\u003dn_tilings,\n",
        "                                                           observation_space\u003denv.observation_space,\n",
        "                                                           action_space\u003denv.action_space)"
      ]
    }
  ],
  "metadata": {
    "kernelspec": {
      "display_name": "Python 3",
      "language": "python",
      "name": "python3"
    },
    "language_info": {
      "codemirror_mode": {
        "name": "ipython",
        "version": 3
      },
      "file_extension": ".py",
      "mimetype": "text/x-python",
      "name": "python",
      "nbconvert_exporter": "python",
      "pygments_lexer": "ipython3",
      "version": "3.7.1"
    },
    "latex_envs": {
      "LaTeX_envs_menu_present": true,
      "autoclose": true,
      "autocomplete": true,
      "bibliofile": "biblio.bib",
      "cite_by": "apalike",
      "current_citInitial": 1,
      "eqLabelWithNumbers": true,
      "eqNumInitial": 1,
      "hotkeys": {
        "equation": "Ctrl-E",
        "itemize": "Ctrl-I"
      },
      "labels_anchors": false,
      "latex_user_defs": false,
      "report_style_numbering": false,
      "user_envs_cfg": false
    },
    "varInspector": {
      "cols": {
        "lenName": 16,
        "lenType": 16,
        "lenVar": 40
      },
      "kernels_config": {
        "python": {
          "delete_cmd_postfix": "",
          "delete_cmd_prefix": "del ",
          "library": "var_list.py",
          "varRefreshCmd": "print(var_dic_list())"
        },
        "r": {
          "delete_cmd_postfix": ") ",
          "delete_cmd_prefix": "rm(",
          "library": "var_list.r",
          "varRefreshCmd": "cat(var_dic_list()) "
        }
      },
      "types_to_exclude": [
        "module",
        "function",
        "builtin_function_or_method",
        "instance",
        "_Feature"
      ],
      "window_display": false
    }
  },
  "nbformat": 4,
  "nbformat_minor": 2
}