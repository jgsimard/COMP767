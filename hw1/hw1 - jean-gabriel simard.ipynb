{
 "cells": [
  {
   "cell_type": "markdown",
   "metadata": {},
   "source": [
    "# COMP-767 : Reinforcement Learning - Assigment 1"
   ]
  },
  {
   "cell_type": "markdown",
   "metadata": {},
   "source": [
    "## Bandits algorithm\n",
    "I choosed option (a) that is based on the paper Best-arm identification algorithms for multi-armed bandits in the fixed confidence setting,\n",
    "Kevin Jamieson and Robert Nowak, CISS, 2014\n",
    "https://people.eecs.berkeley.edu/˜kjamieson/resources/bestArmSurvey.pdf"
   ]
  },
  {
   "cell_type": "markdown",
   "metadata": {},
   "source": [
    "(a) Summarize the main results in the paper"
   ]
  },
  {
   "cell_type": "markdown",
   "metadata": {},
   "source": []
  },
  {
   "cell_type": "markdown",
   "metadata": {},
   "source": [
    "(b) Reproduce the results in Figure 1"
   ]
  },
  {
   "cell_type": "code",
   "execution_count": 2,
   "metadata": {},
   "outputs": [],
   "source": [
    "import matplotlib.pyplot as plt\n",
    "import numpy as np"
   ]
  },
  {
   "cell_type": "code",
   "execution_count": 12,
   "metadata": {},
   "outputs": [],
   "source": [
    "class BanditMachine(object):\n",
    "    def __init__(self, k):\n",
    "        self.k = k\n",
    "        self.q_star = np.random.normal(0,1,k)\n",
    "        self.q_star_variance = 1.0\n",
    "\n",
    "    def pull_arm(self, arm):\n",
    "        assert 0 <= arm < self.k\n",
    "        return np.random.normal(self.q_star[arm], self.q_star_variance)\n",
    "\n",
    "    def optimal_action(self):\n",
    "        return np.argmax(self.q_star)"
   ]
  },
  {
   "cell_type": "code",
   "execution_count": 15,
   "metadata": {},
   "outputs": [],
   "source": [
    "class AlgorithmBandit:\n",
    "    def __init__(self, k, initial_value=0):\n",
    "        self.k = k\n",
    "        self.N = np.zeros(k)\n",
    "        self.Q = np.zeros(k) + initial_value\n",
    "        self.t = 0\n",
    "        self.rewards=[]\n",
    "        self.actions=[]\n",
    "        self.regrets=[]\n",
    "\n",
    "    def policy(self):\n",
    "        pass\n",
    "    \n",
    "    def update_N_Q(self, A, R):\n",
    "        self.N[A] += 1\n",
    "        self.Q[A] += (R - self.Q[A]) / self.N[A]\n",
    "        \n",
    "    def record(self, bandit_machine, A, R):\n",
    "        self.actions.append(A)\n",
    "        self.rewards.append(R)\n",
    "        self.regrets.append(bandit_machine.q_star[bandit_machine.optimal_action()] - R)\n",
    "\n",
    "    def take_action(self, bandit_machine):\n",
    "        set_A = self.policy()\n",
    "        for A in set_A:\n",
    "            self.t += 1\n",
    "            R = bandit_machine.pull_arm(A)\n",
    "            self.update_N_Q(A, R)\n",
    "            \n",
    "            self.record(bandit_machine, A, R)"
   ]
  },
  {
   "cell_type": "code",
   "execution_count": null,
   "metadata": {},
   "outputs": [],
   "source": [
    "n = 6\n",
    "bandit_machine_paper = BanditMachine(n)\n",
    "bandit_machine_paper.q_star = np.array([1, 4/5, 3/5, 2/5, 1/5, 0])\n",
    "bandit_machine_paper.q_star_variance = 0.25"
   ]
  },
  {
   "cell_type": "code",
   "execution_count": 30,
   "metadata": {},
   "outputs": [
    {
     "name": "stderr",
     "output_type": "stream",
     "text": [
      "C:\\Users\\Jean-Gabriel\\Anaconda3\\lib\\site-packages\\ipykernel_launcher.py:3: RuntimeWarning: invalid value encountered in sqrt\n",
      "  This is separate from the ipykernel package so we can avoid doing imports until\n"
     ]
    }
   ],
   "source": [
    "def U(t, d=0.1, epsilon=0.01):\n",
    "    m = (1+epsilon) * t\n",
    "    return (1+ np.sqrt(epsilon)) * np.sqrt(m*np.log(np.log(m)/d) /(2*t))\n",
    "\n",
    "class ActionEliminate(AlgorithmBandit):\n",
    "    def __init__(self, k, initial_value=0):\n",
    "        super().__init__(k, initial_value)\n",
    "        \n",
    "    def C(self, t_i):\n",
    "        return 2*U(t_i, 0.1/self.k)\n",
    "\n",
    "    def policy(self):\n",
    "        #first step\n",
    "        if np.where(self.N == 0)[0].any():\n",
    "            return [i for i in range(self.k)]\n",
    "        \n",
    "        #step > 1\n",
    "        a = np.argmax(self.Q)\n",
    "        bounds = [self.C(self.N[i]) for i in range(self.k)]\n",
    "        \n",
    "        set_A=[a]\n",
    "        for i in range(self.k):\n",
    "            if i != a:\n",
    "                if self.Q[a] - bounds[a] < self.Q[i] + bounds[i]:\n",
    "                    set_A.append(i)\n",
    "        return set_A\n",
    "\n",
    "nb_test = 200\n",
    "nb_pulls = 200\n",
    "actions=[]\n",
    "for test in range(nb_test):\n",
    "    ae = ActionEliminate(n)\n",
    "    for pull in range(nb_pulls):\n",
    "        ae.take_action(bandit_machine_paper)  \n",
    "    actions.append(ae.actions)"
   ]
  },
  {
   "cell_type": "code",
   "execution_count": 31,
   "metadata": {},
   "outputs": [],
   "source": [
    "min_l = min([len(a) for a in actions])\n",
    "prop=np.zeros((min_l, n))\n",
    "for i in range(n):\n",
    "    for j in range(min_l-n):\n",
    "        for k in range(nb_test):\n",
    "            if actions[k][j] == i:\n",
    "                prop[j,i] += 1\n",
    "\n",
    "                prop2= np.zeros((min_l-n, n))\n",
    "for i in range(min_l-n):\n",
    "    prop2[i,:]=np.sum(prop[i:i+n,:],axis=0)\n",
    "    prop2[i,:] /= prop2[i,:].sum()"
   ]
  },
  {
   "cell_type": "code",
   "execution_count": 32,
   "metadata": {},
   "outputs": [
    {
     "data": {
      "image/png": "[encoded data removed]",
      "text/plain": [
       "<Figure size 432x288 with 1 Axes>"
      ]
     },
     "metadata": {
      "needs_background": "light"
     },
     "output_type": "display_data"
    }
   ],
   "source": [
    "for i in range(n):\n",
    "    plt.plot(prop2[:,i])"
   ]
  },
  {
   "cell_type": "code",
   "execution_count": 35,
   "metadata": {},
   "outputs": [
    {
     "data": {
      "text/plain": [
       "array([[0.17, 0.17, 0.17, 0.17, 0.17, 0.17],\n",
       "       [0.12, 0.2 , 0.18, 0.17, 0.17, 0.17],\n",
       "       [0.24, 0.07, 0.19, 0.17, 0.17, 0.17],\n",
       "       [0.37, 0.1 , 0.03, 0.17, 0.17, 0.17],\n",
       "       [0.49, 0.13, 0.04, 0.  , 0.17, 0.17],\n",
       "       [0.62, 0.16, 0.04, 0.  , 0.  , 0.17],\n",
       "       [0.75, 0.2 , 0.05, 0.01, 0.  , 0.  ],\n",
       "       [0.76, 0.19, 0.05, 0.  , 0.  , 0.  ],\n",
       "       [0.76, 0.19, 0.05, 0.  , 0.  , 0.  ],\n",
       "       [0.75, 0.19, 0.05, 0.  , 0.  , 0.  ]])"
      ]
     },
     "execution_count": 35,
     "metadata": {},
     "output_type": "execute_result"
    }
   ],
   "source": [
    "prop2[:10,:].round(2)"
   ]
  },
  {
   "cell_type": "code",
   "execution_count": null,
   "metadata": {},
   "outputs": [],
   "source": [
    "def alpha(beta, d):\n",
    "    m=((2+beta)/beta)**2\n",
    "    return m * (1 + np.log(2*np.log(m*n/d))/np.log(n/d))\n",
    "    \n",
    "def UCB_C(beta, t_i, d, n):\n",
    "    return (1+beta) * U(t_i, d/n)"
   ]
  },
  {
   "cell_type": "code",
   "execution_count": null,
   "metadata": {},
   "outputs": [],
   "source": [
    "class UpperConfidenceBound(AlgorithmBandit):\n",
    "    def __init__(self, k, epsilon=0, initial_value=0):\n",
    "        super().__init__(k, initial_value)\n",
    "        self.epsilon = epsilon\n",
    "\n",
    "    def policy(self):\n",
    "        if np.random.rand() < 1 - self.epsilon:\n",
    "            return [np.argmax(self.Q)]\n",
    "        else:\n",
    "            return [np.random.randint(0, self.k)]"
   ]
  },
  {
   "cell_type": "code",
   "execution_count": null,
   "metadata": {},
   "outputs": [],
   "source": [
    "class LowerUpperConfidenceBound(AlgorithmBandit):\n",
    "    def __init__(self, k, epsilon=0, initial_value=0):\n",
    "        super().__init__(k, initial_value)\n",
    "        self.epsilon = epsilon\n",
    "\n",
    "    def policy(self):\n",
    "        if np.random.rand() < 1 - self.epsilon:\n",
    "            return [np.argmax(self.Q)]\n",
    "        else:\n",
    "            return [np.random.randint(0, self.k)]"
   ]
  },
  {
   "cell_type": "code",
   "execution_count": 14,
   "metadata": {},
   "outputs": [],
   "source": []
  },
  {
   "cell_type": "markdown",
   "metadata": {},
   "source": [
    "(c) Perform the same empirical comparison on the bandit problem provided in the Sutton & Barto book (which we discussed in class). Do not forget to average your results over multiple independent runs."
   ]
  },
  {
   "cell_type": "code",
   "execution_count": 5,
   "metadata": {},
   "outputs": [],
   "source": [
    "class EpsilonGreedy(AlgorithmBandit):\n",
    "    def __init__(self, k, epsilon=0, initial_value=0):\n",
    "        super().__init__(k, initial_value)\n",
    "        self.epsilon = epsilon\n",
    "\n",
    "    def policy(self):\n",
    "        if np.random.rand() < 1 - self.epsilon:\n",
    "            return [np.argmax(self.Q)]\n",
    "        else:\n",
    "            return [np.random.randint(0, self.k)]"
   ]
  },
  {
   "cell_type": "code",
   "execution_count": 6,
   "metadata": {},
   "outputs": [],
   "source": [
    "class OptimisticGreedy(EpsilonGreedy):\n",
    "    def __init__(self, k, initial_value=0):\n",
    "        super().__init__(k, epsilon=0, initial_value=initial_value)"
   ]
  },
  {
   "cell_type": "code",
   "execution_count": 7,
   "metadata": {},
   "outputs": [],
   "source": [
    "class UpperConfidenceBound1(AlgorithmBandit):\n",
    "    def __init__(self, k, c=1, initial_value=0):\n",
    "        super().__init__(k, initial_value)\n",
    "        self.c = c  # degree of exploration\n",
    "\n",
    "    def policy(self):\n",
    "        never_tried = np.where(self.N == 0)[0]\n",
    "        if never_tried.any():\n",
    "            return [never_tried[0]]\n",
    "        return [np.argmax(self.Q + self.c * np.sqrt(np.log(self.t) / self.N))]"
   ]
  },
  {
   "cell_type": "code",
   "execution_count": 10,
   "metadata": {},
   "outputs": [],
   "source": [
    "def softmax(x):\n",
    "    e_x = np.exp(x - np.max(x))\n",
    "    return e_x / e_x.sum()\n",
    "\n",
    "class GradientAscent(AlgorithmBandit):\n",
    "    def __init__(self, k, step_size=0.125, initial_value=0):\n",
    "        super().__init__(k, initial_value)\n",
    "        self.H = np.zeros(k)  # preference of each action\n",
    "        self.step_size = step_size  # learning rate\n",
    "        self.base_line = 0  # choose baseline = average of all reward\n",
    "      \n",
    "    def take_action(self, bandit_machine):\n",
    "        self.t += 1\n",
    "        policy = softmax(self.H)\n",
    "        A = np.random.choice(self.k, p=policy)\n",
    "        R = bandit_machine.pull_arm(A)\n",
    "\n",
    "        for i in range(self.k):\n",
    "            if i == A:\n",
    "                self.H[i] += self.step_size * (R - self.base_line) * (1 - policy[i])\n",
    "            else:\n",
    "                self.H[i] -= self.step_size * (R - self.base_line) * policy[i]\n",
    "\n",
    "        self.base_line += (R - self.base_line) / self.t\n",
    "        \n",
    "        self.record(bandit_machine, A, R)"
   ]
  },
  {
   "cell_type": "code",
   "execution_count": 11,
   "metadata": {},
   "outputs": [
    {
     "data": {
      "image/png": "[encoded data removed]",
      "text/plain": [
       "<Figure size 432x288 with 1 Axes>"
      ]
     },
     "metadata": {
      "needs_background": "light"
     },
     "output_type": "display_data"
    }
   ],
   "source": [
    "def parameter_study(param, type_algo, k=10, nb_test=100, nb_step = 100):\n",
    "    rewards = np.zeros((len(param), nb_test, nb_step))\n",
    "    for i in range(len(param)):\n",
    "        for j in range(nb_test):\n",
    "            algo = type_algo(k, param[i])\n",
    "            bandit = BanditMachine(k)\n",
    "            for n in range(nb_step):\n",
    "                algo.take_action(bandit)\n",
    "            rewards[i,j,:] = algo.rewards\n",
    "\n",
    "    return np.mean(np.mean(rewards, axis=1), axis=1)\n",
    "\n",
    "\n",
    "nb_test = 100\n",
    "nb_step = 100\n",
    "k=10\n",
    "\n",
    "param = [2**i for i in range(-7, 5, 1)]\n",
    "algos = [EpsilonGreedy, \n",
    "         GradientAscent, \n",
    "         UpperConfidenceBound1,\n",
    "         OptimisticGreedy]\n",
    "\n",
    "parameter_study_values={}\n",
    "for algo in algos:\n",
    "    parameter_study_values[algo.__name__] = parameter_study(param, algo, k, nb_test, nb_step)\n",
    "    \n",
    "####### PLOT\n",
    "\n",
    "for algo_name in parameter_study_values:\n",
    "    plt.plot(param, parameter_study_values[algo_name], label=algo_name)\n",
    "plt.xscale(\"log\", basex=2)\n",
    "plt.xlabel(\"epsilon/learning rate/c/Q_0\")\n",
    "plt.ylabel(\"Average reward over 1000 steps\")\n",
    "plt.legend()\n",
    "plt.show()"
   ]
  },
  {
   "cell_type": "code",
   "execution_count": null,
   "metadata": {},
   "outputs": [],
   "source": []
  },
  {
   "cell_type": "markdown",
   "metadata": {},
   "source": [
    "(d) Discuss in a short paragraph a concrete application in which you think regret optimization would be more useful than best arm identification"
   ]
  },
  {
   "cell_type": "code",
   "execution_count": null,
   "metadata": {},
   "outputs": [],
   "source": []
  },
  {
   "cell_type": "markdown",
   "metadata": {},
   "source": [
    "# Markov Decision Processes and dynamic programming\n",
    "I choosed option (a)"
   ]
  },
  {
   "cell_type": "code",
   "execution_count": null,
   "metadata": {},
   "outputs": [],
   "source": [
    "n = 6\n",
    "b = bandits.Bandits(n)\n",
    "b.q_star = np.array([1, 4/5, 3/5, 2/5, 1/5, 0])\n",
    "b.q_star_variance = 0.25"
   ]
  },
  {
   "cell_type": "code",
   "execution_count": null,
   "metadata": {},
   "outputs": [],
   "source": [
    "n_trials = 20\n",
    "n_pulls = 30\n",
    "pulls = np.zeros((n_pulls, n))\n",
    "\n",
    "for i in range(n_trials):\n",
    "    UCB = bandits.UpperConfidenceBound(k=n, c=0.1)\n",
    "    for j in range(n_pulls):\n",
    "        choix = UCB.policy()\n",
    "        pulls[j,choix] += 1\n",
    "        UCB.take_action(b)\n"
   ]
  },
  {
   "cell_type": "code",
   "execution_count": null,
   "metadata": {},
   "outputs": [],
   "source": [
    "n_trials = 20\n",
    "n_pulls = 30\n",
    "h = np.zeros((n_trials, n_pulls, n))\n",
    "l = np.zeros((n_trials, n_pulls, n))\n",
    "\n",
    "for i in range(n_trials):\n",
    "    LUCB = bandits.LowerUpperConfidenceBound(k=n, c=0.1)\n",
    "    for j in range(n_pulls):\n",
    "        h_j, l_j = LUCB.take_action(b)\n",
    "        h[i, j, h_j] = 1\n",
    "        l[i, j, l_j] = 1\n",
    "\n",
    "    prop = np.zeros((n_pulls - n, n))\n",
    "    for k in range(n_pulls - n):\n",
    "        prop[k,:] = np.sum(h[i, k:k+n-1,:], axis=0 ) + np.sum(l[i, k:k+n-1,:], axis=0 )\n",
    "\n",
    "\n"
   ]
  }
 ],
 "metadata": {
  "kernelspec": {
   "display_name": "Python 3",
   "language": "python",
   "name": "python3"
  },
  "language_info": {
   "codemirror_mode": {
    "name": "ipython",
    "version": 3
   },
   "file_extension": ".py",
   "mimetype": "text/x-python",
   "name": "python",
   "nbconvert_exporter": "python",
   "pygments_lexer": "ipython3",
   "version": "3.6.6"
  },
  "varInspector": {
   "cols": {
    "lenName": 16,
    "lenType": 16,
    "lenVar": 40
   },
   "kernels_config": {
    "python": {
     "delete_cmd_postfix": "",
     "delete_cmd_prefix": "del ",
     "library": "var_list.py",
     "varRefreshCmd": "print(var_dic_list())"
    },
    "r": {
     "delete_cmd_postfix": ") ",
     "delete_cmd_prefix": "rm(",
     "library": "var_list.r",
     "varRefreshCmd": "cat(var_dic_list()) "
    }
   },
   "position": {
    "height": "781px",
    "left": "719px",
    "right": "20px",
    "top": "120px",
    "width": "359px"
   },
   "types_to_exclude": [
    "module",
    "function",
    "builtin_function_or_method",
    "instance",
    "_Feature"
   ],
   "window_display": false
  }
 },
 "nbformat": 4,
 "nbformat_minor": 2
}
