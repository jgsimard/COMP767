{
 "cells": [
  {
   "cell_type": "markdown",
   "metadata": {},
   "source": [
    "# COMP-767: Reinforcement Learning - Assignment 2"
   ]
  },
  {
   "cell_type": "markdown",
   "metadata": {},
   "source": [
    "## 1.Prediction and control in RL [50 points] \n",
    "\n",
    "In this task, you will compare the performance of SARSA, expected SARSA and Q-learningon the Taxi domain from the Gym environment suite:https://gym.openai.com/envs/Taxi-v2/ \n",
    " \n",
    " Use a tabular representation of the state space, and ensure that the starting and end location of the passenger are random. Exploration should be softmax (Boltzmann).  You will need to run the following protocol.  You will do 10 independent runs.  Each run consists of 100 segments, in each segment there are 10 episodes of training, followed by 1 episode in which you simply run the optimal policy so far (i.e. you pick actions greedily based on the current value estimates). Pick 3 settings of the temperature parameter used in the exploration and 3 settings of the learning rate. \n",
    " \n",
    " You need to plot:\n",
    " \n",
    "* One u-shaped graph that shows the effect of the parameters on the final training perfor-mance, expressed as the return of the agent (averaged over the last 10 training episodesand the 10 runs); note that this will typically end up as an upside-down u.\n",
    " \n",
    "* One u-shaped graph that shows the effect of the parameters on the final testing perfor-mance, expressed as the return of the agent (during the final testing episode, averagedover the 10 runs)\n",
    " \n",
    "* Learning curves (mean and standard deviation computed based on the 10 runs) for whatyou pick as the best parameter setting for each algorithmWrite a small report that describes your experiment,  your choices of parameters,  and theconclusions you draw from the graphs."
   ]
  },
  {
   "cell_type": "code",
   "execution_count": 1,
   "metadata": {},
   "outputs": [],
   "source": [
    "%load_ext autoreload\n",
    "%autoreload 2\n",
    "\n",
    "import gym\n",
    "import numpy as np\n",
    "import matplotlib.pyplot as plt\n",
    "from tqdm import tqdm\n",
    "import sys\n",
    "from multiprocessing import Pool\n",
    "\n",
    "import temporal_difference"
   ]
  },
  {
   "cell_type": "code",
   "execution_count": 2,
   "metadata": {},
   "outputs": [],
   "source": [
    "def get_q(env):\n",
    "    num_actions = 6\n",
    "    num_states = 5*5*5*4\n",
    "    q = {state: np.random.rand(num_actions) for state in range(num_states)}\n",
    "\n",
    "    for loc_id in range(len(env.locs)):\n",
    "        loc = env.locs[loc_id]\n",
    "        s = env.encode(loc[0], loc[1], loc_id, loc_id)\n",
    "        q[s] = np.zeros(num_actions)\n",
    "    \n",
    "    return q"
   ]
  },
  {
   "cell_type": "code",
   "execution_count": 3,
   "metadata": {},
   "outputs": [],
   "source": [
    "def test_optimal_policy(q, env, discount_rate=0.9, show=True):\n",
    "    policy_greedy = temporal_difference.Greedy(n=6)\n",
    "    s = env.reset()\n",
    "    a = policy_greedy.get_action(q, s)\n",
    "    history = temporal_difference.History(s, a, discount_rate)\n",
    "    done = False\n",
    "    \n",
    "    if show : \n",
    "        env.render()\n",
    "        \n",
    "    while not done:\n",
    "        observation, reward, done, info = env.step(a)\n",
    "        s = observation\n",
    "        a = policy_greedy.get_action(q, s)\n",
    "        history.register(s, a, reward)\n",
    "        if show : \n",
    "            env.render()\n",
    "            print(f\"Timestep: {history.t}, Reward: {reward}, Total reward: {history.undiscounted_return()}, Discounted reward: {history.discounted_return()}\")\n",
    "    return history"
   ]
  },
  {
   "cell_type": "code",
   "execution_count": 4,
   "metadata": {
    "scrolled": true
   },
   "outputs": [
    {
     "name": "stdout",
     "output_type": "stream",
     "text": [
      "Segment :  0, Timestep : 200, Total reward :  -200\n",
      "Segment :  1, Timestep : 200, Total reward :  -200\n",
      "Segment :  2, Timestep : 200, Total reward :  -200\n",
      "Segment :  3, Timestep : 200, Total reward :  -200\n",
      "Segment :  4, Timestep : 200, Total reward :  -200\n",
      "Segment :  5, Timestep : 200, Total reward :  -200\n",
      "Segment :  6, Timestep : 200, Total reward :  -200\n",
      "Segment :  7, Timestep : 200, Total reward :  -200\n",
      "Segment :  8, Timestep : 200, Total reward :  -200\n",
      "Segment :  9, Timestep : 200, Total reward :  -200\n",
      "Segment : 10, Timestep : 200, Total reward :  -200\n",
      "Segment : 11, Timestep : 200, Total reward :  -200\n",
      "Segment : 12, Timestep : 200, Total reward :  -200\n",
      "Segment : 13, Timestep : 200, Total reward :  -200\n",
      "Segment : 14, Timestep : 200, Total reward :  -200\n",
      "Segment : 15, Timestep : 200, Total reward :  -200\n",
      "Segment : 16, Timestep : 200, Total reward :  -200\n",
      "Segment : 17, Timestep : 200, Total reward :  -200\n",
      "Segment : 18, Timestep : 200, Total reward :  -200\n",
      "Segment : 19, Timestep : 200, Total reward :  -200\n",
      "Segment : 20, Timestep :  12, Total reward :     9\n",
      "Segment : 21, Timestep :  10, Total reward :    11\n",
      "Segment : 22, Timestep : 200, Total reward :  -200\n",
      "Segment : 23, Timestep : 200, Total reward :  -200\n",
      "Segment : 24, Timestep :  12, Total reward :     9\n",
      "Segment : 25, Timestep : 200, Total reward :  -200\n",
      "Segment : 26, Timestep :  10, Total reward :    11\n",
      "Segment : 27, Timestep : 200, Total reward :  -200\n",
      "Segment : 28, Timestep : 200, Total reward :  -200\n",
      "Segment : 29, Timestep : 200, Total reward :  -200\n",
      "Segment : 30, Timestep : 200, Total reward :  -200\n",
      "Segment : 31, Timestep : 200, Total reward :  -200\n",
      "Segment : 32, Timestep :  15, Total reward :     6\n",
      "Segment : 33, Timestep :  14, Total reward :     7\n",
      "Segment : 34, Timestep : 200, Total reward :  -200\n",
      "Segment : 35, Timestep :  16, Total reward :     5\n",
      "Segment : 36, Timestep :  12, Total reward :     9\n",
      "Segment : 37, Timestep :  10, Total reward :    11\n",
      "Segment : 38, Timestep :  10, Total reward :    11\n",
      "Segment : 39, Timestep :  14, Total reward :     7\n",
      "Segment : 40, Timestep :  13, Total reward :     8\n",
      "Segment : 41, Timestep : 200, Total reward :  -200\n",
      "Segment : 42, Timestep : 200, Total reward :  -200\n",
      "Segment : 43, Timestep : 200, Total reward :  -200\n",
      "Segment : 44, Timestep :  11, Total reward :    10\n",
      "Segment : 45, Timestep : 200, Total reward :  -200\n",
      "Segment : 46, Timestep :   6, Total reward :    15\n",
      "Segment : 47, Timestep :  10, Total reward :    11\n",
      "Segment : 48, Timestep : 200, Total reward :  -200\n",
      "Segment : 49, Timestep :  15, Total reward :     6\n",
      "Segment : 50, Timestep :  16, Total reward :     5\n",
      "Segment : 51, Timestep :  16, Total reward :     5\n",
      "Segment : 52, Timestep :  16, Total reward :     5\n",
      "Segment : 53, Timestep :  12, Total reward :     9\n",
      "Segment : 54, Timestep :  12, Total reward :     9\n",
      "Segment : 55, Timestep :  15, Total reward :     6\n",
      "Segment : 56, Timestep :  11, Total reward :    10\n",
      "Segment : 57, Timestep :  16, Total reward :     5\n",
      "Segment : 58, Timestep :  13, Total reward :     8\n",
      "Segment : 59, Timestep : 200, Total reward :  -200\n",
      "Segment : 60, Timestep : 200, Total reward :  -200\n",
      "Segment : 61, Timestep :  14, Total reward :     7\n",
      "Segment : 62, Timestep :  15, Total reward :     6\n",
      "Segment : 63, Timestep :   9, Total reward :    12\n",
      "Segment : 64, Timestep :  11, Total reward :    10\n",
      "Segment : 65, Timestep :  16, Total reward :     5\n",
      "Segment : 66, Timestep :  13, Total reward :     8\n",
      "Segment : 67, Timestep :  15, Total reward :     6\n",
      "Segment : 68, Timestep :  13, Total reward :     8\n",
      "Segment : 69, Timestep :  14, Total reward :     7\n",
      "Segment : 70, Timestep :  12, Total reward :     9\n",
      "Segment : 71, Timestep :  14, Total reward :     7\n",
      "Segment : 72, Timestep :  13, Total reward :     8\n",
      "Segment : 73, Timestep :  16, Total reward :     5\n",
      "Segment : 74, Timestep :  14, Total reward :     7\n",
      "Segment : 75, Timestep :  10, Total reward :    11\n",
      "Segment : 76, Timestep :  14, Total reward :     7\n",
      "Segment : 77, Timestep : 200, Total reward :  -200\n",
      "Segment : 78, Timestep :  15, Total reward :     6\n",
      "Segment : 79, Timestep :  11, Total reward :    10\n",
      "Segment : 80, Timestep :  13, Total reward :     8\n",
      "Segment : 81, Timestep :  12, Total reward :     9\n",
      "Segment : 82, Timestep :  14, Total reward :     7\n",
      "Segment : 83, Timestep :   9, Total reward :    12\n",
      "Segment : 84, Timestep :   9, Total reward :    12\n",
      "Segment : 85, Timestep :   9, Total reward :    12\n",
      "Segment : 86, Timestep :   9, Total reward :    12\n",
      "Segment : 87, Timestep :  11, Total reward :    10\n",
      "Segment : 88, Timestep :  14, Total reward :     7\n",
      "Segment : 89, Timestep :  12, Total reward :     9\n",
      "Segment : 90, Timestep :  12, Total reward :     9\n",
      "Segment : 91, Timestep :  11, Total reward :    10\n",
      "Segment : 92, Timestep :  13, Total reward :     8\n",
      "Segment : 93, Timestep :  14, Total reward :     7\n",
      "Segment : 94, Timestep :   9, Total reward :    12\n",
      "Segment : 95, Timestep :  10, Total reward :    11\n",
      "Segment : 96, Timestep :  15, Total reward :     6\n",
      "Segment : 97, Timestep :   9, Total reward :    12\n",
      "Segment : 98, Timestep :  15, Total reward :     6\n",
      "Segment : 99, Timestep :  12, Total reward :     9\n"
     ]
    },
    {
     "data": {
      "text/plain": [
       "([12, 7, 10, 6, 11, 8, -1, 14, 13, 1], 9)"
      ]
     },
     "execution_count": 4,
     "metadata": {},
     "output_type": "execute_result"
    }
   ],
   "source": [
    "def run(update_algorithm, temperature_factor=1, learning_rate=0.5, show=False, print_segment=False):\n",
    "    n_segment=100\n",
    "    episode_by_segment=10\n",
    "    discount_rate = 0.9\n",
    "    exploration_policy = temporal_difference.SoftmaxExploration(temperature_factor=temperature_factor)\n",
    "    env = gym.make('Taxi-v2')\n",
    "    q = get_q(env.unwrapped)\n",
    "    \n",
    "    last_training_results=[]\n",
    "    for segment in range(n_segment):\n",
    "        for episode in range(episode_by_segment):\n",
    "            episode_history = update_algorithm(env, exploration_policy, q, learning_rate, discount_rate)\n",
    "            \n",
    "            if segment == n_segment - 1:\n",
    "                last_training_results.append(episode_history.undiscounted_return())\n",
    "        \n",
    "        optimal_history = test_optimal_policy(q, env, discount_rate, show)\n",
    "        \n",
    "        if print_segment:\n",
    "            print(\"Segment : %2i, Timestep : %3i, Total reward : %5i\" % (segment, \n",
    "                                                                         optimal_history.t, \n",
    "                                                                         optimal_history.undiscounted_return()))\n",
    "    return last_training_results, optimal_history.undiscounted_return()\n",
    "\n",
    "\n",
    "run(temporal_difference.qlearning_update, print_segment=True)"
   ]
  },
  {
   "cell_type": "code",
   "execution_count": null,
   "metadata": {},
   "outputs": [],
   "source": [
    "def parameters_effect(update_algorithm, temparature_factor, learning_rate):\n",
    "    n_run = 10\n",
    "    training_results = np.zeros((n_run, 10))\n",
    "    testing_results = np.zeros(n_run)\n",
    "    for i in range(n_run):\n",
    "        training_results[i,:], testing_results[i] = run(update_algorithm, temparature_factor, learning_rate)\n",
    "    final_training_performance = (np.mean(training_results), np.std(training_results))\n",
    "    final_testing_performance = (np.mean(testing_results),np.std(testing_results))\n",
    "    return final_training_performance, final_testing_performance"
   ]
  },
  {
   "cell_type": "code",
   "execution_count": null,
   "metadata": {},
   "outputs": [],
   "source": [
    "def subplot(name, algo, results, learning_rates, temperature_factors):\n",
    "    for i in range(len(results)):\n",
    "        plt.plot(learning_rates, results[i], label=temperature_factors[i])\n",
    "    plt.legend()\n",
    "    plt.title(algo + \" during \" + name)\n",
    "    plt.xlabel(\"learning rate\")\n",
    "    plt.ylabel(\"Cumulative reward\")\n",
    "    \n",
    "def plot(algo, train, test, learning_rates, temperature_factors):\n",
    "    fig = plt.figure(figsize=(12, 6))\n",
    "    plt.subplot(1, 2, 1)\n",
    "    subplot(\"training\", algo, train, learning_rates, temperature_factors)\n",
    "\n",
    "    plt.subplot(1, 2, 2)\n",
    "    subplot(\"testing\", algo, test, learning_rates, temperature_factors)\n",
    "    plt.show()"
   ]
  },
  {
   "cell_type": "code",
   "execution_count": null,
   "metadata": {},
   "outputs": [],
   "source": [
    "def algorithm_parameters_effect(update_algorithm, learning_rates, temperature_factors):\n",
    "    print(update_algorithm)\n",
    "    sys.stdout.flush()\n",
    "    train_results, test_results=[],[]\n",
    "    for temparature_factor in tqdm(temperature_factors):\n",
    "        partial_train_results, partial_test_results = [],[]\n",
    "        for learning_rate in learning_rates:\n",
    "            train, test = parameters_effect(algorithms[update_algorithm], temparature_factor, learning_rate)\n",
    "            partial_train_results.append(train[0])\n",
    "            partial_test_results.append(test[0])\n",
    "        train_results.append(partial_train_results)\n",
    "        test_results.append(partial_test_results)\n",
    "    plot(update_algorithm, train_results, test_results, learning_rates, temperature_factors)\n",
    "\n",
    "## too slow\n",
    "# for algo in algorithms:\n",
    "#     algorithm_parameters_effect(algo, learning_rate_settings, temperature_parameter_settings)"
   ]
  },
  {
   "cell_type": "code",
   "execution_count": null,
   "metadata": {
    "scrolled": false
   },
   "outputs": [
    {
     "name": "stdout",
     "output_type": "stream",
     "text": [
      "SARSA\n"
     ]
    },
    {
     "data": {
      "image/png": "[encoded data removed]",
      "text/plain": [
       "<Figure size 864x432 with 2 Axes>"
      ]
     },
     "metadata": {
      "needs_background": "light"
     },
     "output_type": "display_data"
    },
    {
     "name": "stdout",
     "output_type": "stream",
     "text": [
      "Best return : 9.0, with std :2.4083189157584592, learning rate = 1, and temperature factor = 0.5 \n",
      "\n",
      "Expected SARSA\n"
     ]
    }
   ],
   "source": [
    "def break_list(data, len_sub):\n",
    "        return [data[x:x+len_sub] for x in range(0, len(data), len_sub)]\n",
    "\n",
    "def get_means(results):\n",
    "    return [[m for m, std in r] for r in results]\n",
    "\n",
    "def get_best(results, learning_rates, temperature_factors):\n",
    "    best_reward = -10000\n",
    "    best_lr = -1\n",
    "    best_tf = -1\n",
    "    for r in results:\n",
    "        means = [m for m, std in r]\n",
    "        stds = [std for m, std in r]\n",
    "        if max(means) > best_reward:\n",
    "            best_reward = max(means)\n",
    "            best_std = stds[np.argmax(means)]\n",
    "            best_lr = learning_rates[np.argmax(means)]\n",
    "            best_tf = temperature_factors[results.index(r)]\n",
    "    return best_reward, best_std, best_lr, best_tf\n",
    "\n",
    "def algorithm_parameters_effect_parallel(update_algorithm, learning_rates, temperature_factors):\n",
    "    print(update_algorithm)\n",
    "    sys.stdout.flush()\n",
    "    p = Pool(10)\n",
    "\n",
    "    settings=[]\n",
    "    for temparature_factor in temperature_factors:\n",
    "        for learning_rate in learning_rates:\n",
    "            settings.append((algorithms[update_algorithm], temparature_factor, learning_rate))\n",
    "    r = p.starmap(parameters_effect, settings)\n",
    "\n",
    "    train_results = break_list([train for train, test in r], len(temperature_factors))\n",
    "    test_results = break_list([test for train, test in r], len(temperature_factors))\n",
    "\n",
    "\n",
    "    plot(update_algorithm, get_means(train_results), get_means(test_results), learning_rates, temperature_factors)\n",
    "    r, std, lr, tf = get_best(test_results, learning_rates, temperature_factors)\n",
    "    print(f\"Best return : {r}, with std :{std}, learning rate = {lr}, and temperature factor = {tf} \\n\")\n",
    "\n",
    "algorithms = {\"SARSA\":temporal_difference.sarsa_update, \n",
    "              \"Expected SARSA\": temporal_difference.expected_sarsa_update, \n",
    "              \"Q-learning\":temporal_difference.qlearning_update}\n",
    "temperature_factors= [0.5, 1, 2]\n",
    "learning_rates = [0.1, 0.5, 1]\n",
    "\n",
    "for algo in algorithms:\n",
    "    algorithm_parameters_effect_parallel(algo, learning_rates, temperature_factors)"
   ]
  },
  {
   "cell_type": "markdown",
   "metadata": {},
   "source": [
    "WRITE SOME TEXT to explain the graphs"
   ]
  }
 ],
 "metadata": {
  "kernelspec": {
   "display_name": "Python 3",
   "language": "python",
   "name": "python3"
  },
  "language_info": {
   "codemirror_mode": {
    "name": "ipython",
    "version": 3
   },
   "file_extension": ".py",
   "mimetype": "text/x-python",
   "name": "python",
   "nbconvert_exporter": "python",
   "pygments_lexer": "ipython3",
   "version": "3.6.7"
  }
 },
 "nbformat": 4,
 "nbformat_minor": 2
}
