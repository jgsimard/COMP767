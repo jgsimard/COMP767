{
 "cells": [
  {
   "cell_type": "code",
   "execution_count": 2,
   "metadata": {},
   "outputs": [],
   "source": [
    "import numpy as np\n",
    "\n",
    "import sklearn.svm as ssv\n",
    "\n",
    "from sklearn.externals import joblib\n",
    "\n",
    "from skimage.feature import hog\n",
    "\n",
    "import random\n",
    "\n",
    "import glob\n",
    "\n",
    "import os\n",
    "\n",
    "import cv2"
   ]
  },
  {
   "cell_type": "code",
   "execution_count": 3,
   "metadata": {},
   "outputs": [],
   "source": [
    "def trainSvm(datas, labels):\n",
    "\n",
    "    clf = ssv.SVC(kernel='linear', C = 0.6 , gamma = 20, decision_function_shape='ovo')\n",
    "\n",
    "    print (\"Training a SVM\")\n",
    "\n",
    "    clf.fit(datas, labels)\n",
    "\n",
    "    score = clf.score(datas, labels)\n",
    "    \n",
    "    print (score)\n",
    "    \n",
    "    return clf,score"
   ]
  },
  {
   "cell_type": "code",
   "execution_count": 10,
   "metadata": {},
   "outputs": [],
   "source": []
  },
  {
   "cell_type": "code",
   "execution_count": 23,
   "metadata": {},
   "outputs": [],
   "source": [
    "def sliding_window(image, stepSize, windowSize):\n",
    "\n",
    "    for y in range(0, 224, stepSize):\n",
    "\n",
    "        for x in range(0, 224, stepSize):\n",
    "            \n",
    "            y = y + windowSize[1]\n",
    "            \n",
    "            x = x + windowSize[0]\n",
    "\n",
    "            yield (x, y, image[x,y])"
   ]
  },
  {
   "cell_type": "code",
   "execution_count": 24,
   "metadata": {},
   "outputs": [],
   "source": [
    "def rgb2gray(im):\n",
    "\n",
    "    gray = im[:, :, 0]*0.2989+im[:, :, 1]*0.5870+im[:, :, 2]*0.1140\n",
    "\n",
    "    return gray"
   ]
  },
  {
   "cell_type": "code",
   "execution_count": null,
   "metadata": {},
   "outputs": [],
   "source": []
  },
  {
   "cell_type": "code",
   "execution_count": null,
   "metadata": {},
   "outputs": [],
   "source": []
  },
  {
   "cell_type": "code",
   "execution_count": 25,
   "metadata": {},
   "outputs": [
    {
     "ename": "TypeError",
     "evalue": "'NoneType' object is not subscriptable",
     "output_type": "error",
     "traceback": [
      "\u001b[1;31m---------------------------------------------------------------------------\u001b[0m",
      "\u001b[1;31mTypeError\u001b[0m                                 Traceback (most recent call last)",
      "\u001b[1;32m<ipython-input-25-a272ba8bfd8d>\u001b[0m in \u001b[0;36m<module>\u001b[1;34m\u001b[0m\n\u001b[0;32m     37\u001b[0m         \u001b[1;32mfor\u001b[0m \u001b[1;33m(\u001b[0m\u001b[0mwinW\u001b[0m\u001b[1;33m,\u001b[0m\u001b[0mwinH\u001b[0m\u001b[1;33m)\u001b[0m \u001b[1;32min\u001b[0m \u001b[0mscales\u001b[0m\u001b[1;33m:\u001b[0m\u001b[1;33m\u001b[0m\u001b[0m\n\u001b[0;32m     38\u001b[0m \u001b[1;33m\u001b[0m\u001b[0m\n\u001b[1;32m---> 39\u001b[1;33m             \u001b[1;32mfor\u001b[0m \u001b[1;33m(\u001b[0m\u001b[0mx\u001b[0m\u001b[1;33m,\u001b[0m \u001b[0my\u001b[0m\u001b[1;33m,\u001b[0m \u001b[0mwindow\u001b[0m\u001b[1;33m)\u001b[0m \u001b[1;32min\u001b[0m \u001b[0msliding_window\u001b[0m\u001b[1;33m(\u001b[0m\u001b[0mdata\u001b[0m\u001b[1;33m,\u001b[0m \u001b[0mstepSize\u001b[0m\u001b[1;33m=\u001b[0m\u001b[1;36m100\u001b[0m\u001b[1;33m,\u001b[0m \u001b[0mwindowSize\u001b[0m\u001b[1;33m=\u001b[0m\u001b[1;33m(\u001b[0m\u001b[0mwinW\u001b[0m\u001b[1;33m,\u001b[0m\u001b[0mwinH\u001b[0m\u001b[1;33m)\u001b[0m\u001b[1;33m)\u001b[0m\u001b[1;33m:\u001b[0m\u001b[1;33m\u001b[0m\u001b[0m\n\u001b[0m\u001b[0;32m     40\u001b[0m \u001b[1;33m\u001b[0m\u001b[0m\n\u001b[0;32m     41\u001b[0m                 \u001b[0mresult\u001b[0m \u001b[1;33m=\u001b[0m \u001b[1;36m0\u001b[0m\u001b[1;33m\u001b[0m\u001b[0m\n",
      "\u001b[1;32m<ipython-input-23-2f718c822d31>\u001b[0m in \u001b[0;36msliding_window\u001b[1;34m(image, stepSize, windowSize)\u001b[0m\n\u001b[0;32m      9\u001b[0m             \u001b[0mx\u001b[0m \u001b[1;33m=\u001b[0m \u001b[0mx\u001b[0m \u001b[1;33m+\u001b[0m \u001b[0mwindowSize\u001b[0m\u001b[1;33m[\u001b[0m\u001b[1;36m0\u001b[0m\u001b[1;33m]\u001b[0m\u001b[1;33m\u001b[0m\u001b[0m\n\u001b[0;32m     10\u001b[0m \u001b[1;33m\u001b[0m\u001b[0m\n\u001b[1;32m---> 11\u001b[1;33m             \u001b[1;32myield\u001b[0m \u001b[1;33m(\u001b[0m\u001b[0mx\u001b[0m\u001b[1;33m,\u001b[0m \u001b[0my\u001b[0m\u001b[1;33m,\u001b[0m \u001b[0mimage\u001b[0m\u001b[1;33m[\u001b[0m\u001b[0mx\u001b[0m\u001b[1;33m,\u001b[0m\u001b[0my\u001b[0m\u001b[1;33m]\u001b[0m\u001b[1;33m)\u001b[0m\u001b[1;33m\u001b[0m\u001b[0m\n\u001b[0m",
      "\u001b[1;31mTypeError\u001b[0m: 'NoneType' object is not subscriptable"
     ]
    }
   ],
   "source": [
    "if __name__ == \"__main__\":\n",
    "\n",
    "    normalize = True\n",
    "    \n",
    "    visualize = False\n",
    "\n",
    "    block_norm = 'L2-Hys'\n",
    "\n",
    "    cells_per_block = [2,2]\n",
    "\n",
    "    pixels_per_cell = [20,20]\n",
    "\n",
    "    orientations = 9\n",
    "\n",
    "    new_model_path = './models/svm'\n",
    "    \n",
    "    record = []\n",
    "    \n",
    "    negative_img_path = 'C:/ZZF/SVM/VOCtrainval_11-May-2012/VOCdevkit/VOC2012/negative'\n",
    "\n",
    "    num = 0\n",
    "\n",
    "    for childDir in os.listdir(negative_img_path):\n",
    "\n",
    "        num += 1\n",
    "\n",
    "        num_win = 0\n",
    "\n",
    "        #print \"num: %d hard negative mining: %s\" %(num,childDir)\n",
    "\n",
    "        f = os.path.join(negative_img_path, childDir)\n",
    "\n",
    "        data = cv2.imread(f)\n",
    "\n",
    "        scales = [(100, 100), (200,200), (300,300), (400,400), (500, 500), (600,600), (800, 800)]\n",
    "\n",
    "        for (winW,winH) in scales:\n",
    "\n",
    "            for (x, y, window) in sliding_window(data, stepSize=100, windowSize=(winW,winH)):\n",
    "\n",
    "                result = 0\n",
    "\n",
    "                if window.shape[0] != winH or window.shape[1] != winW:\n",
    "\n",
    "                    continue\n",
    "\n",
    "                if window.shape[0] != 200 or window.shape[1] != 200:\n",
    "\n",
    "                    window = cv2.resize(window,(200,200),interpolation=cv2.INTER_CUBIC)\n",
    "\n",
    "                gray = rgb2gray(window)/255.0\n",
    "\n",
    "                window_fd = hog(gray, orientations, pixels_per_cell, cells_per_block, block_norm, visualize, normalize)\n",
    "\n",
    "                win_fd = window_fd.reshape(1, -1)\n",
    "\n",
    "                result = int(clf.predict(win_fd))\n",
    "\n",
    "                if result >= 0.5:\n",
    "                    \n",
    "                    record.append((window_fd, result))\n",
    "\n",
    "                   \n",
    "    New_clf = clf(record)\n",
    "\n",
    "    \n",
    "    joblib.dump(new_clf, new_model_path)\n",
    "\n",
    "    print (\"Classifier saved to {}\".format(new_model_path))\n",
    "    \n",
    "\n",
    "\n",
    "\n",
    "\n",
    "\n",
    "\n",
    "\n",
    "  \n",
    "\n",
    "    \n",
    "\n",
    "\n",
    "    \n",
    "\n",
    "    "
   ]
  },
  {
   "cell_type": "code",
   "execution_count": null,
   "metadata": {},
   "outputs": [],
   "source": []
  }
 ],
 "metadata": {
  "kernelspec": {
   "display_name": "Python 3",
   "language": "python",
   "name": "python3"
  },
  "language_info": {
   "codemirror_mode": {
    "name": "ipython",
    "version": 3
   },
   "file_extension": ".py",
   "mimetype": "text/x-python",
   "name": "python",
   "nbconvert_exporter": "python",
   "pygments_lexer": "ipython3",
   "version": "3.6.1"
  }
 },
 "nbformat": 4,
 "nbformat_minor": 2
}
