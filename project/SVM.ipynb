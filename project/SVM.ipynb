{
 "cells": [
  {
   "cell_type": "code",
   "execution_count": 71,
   "metadata": {},
   "outputs": [],
   "source": [
    "import numpy as np\n",
    "import sklearn.svm as svm\n",
    "from sklearn.externals import joblib\n",
    "from skimage.feature import hog\n",
    "\n",
    "import random\n",
    "import glob\n",
    "import os\n",
    "import cv2\n",
    "from PIL import Image\n",
    "import matplotlib.pyplot as plt\n",
    "import gluoncv\n",
    "import gym_project.envs.object_localization as object_localization"
   ]
  },
  {
   "cell_type": "code",
   "execution_count": 72,
   "metadata": {},
   "outputs": [],
   "source": [
    "def trainSvm(datas, labels):\n",
    "    clf = svm.SVC(kernel='linear', C = 0.6 , gamma = 20, decision_function_shape='ovo')\n",
    "    print (\"Training a SVM\")\n",
    "    clf.fit(datas, labels)\n",
    "    score = clf.score(datas, labels)\n",
    "    print (score)\n",
    "    return clf,score"
   ]
  },
  {
   "cell_type": "markdown",
   "metadata": {},
   "source": [
    "use the idea of sliding windiws from https://www.zhihu.com/question/46292829"
   ]
  },
  {
   "cell_type": "code",
   "execution_count": 64,
   "metadata": {},
   "outputs": [],
   "source": [
    "def sliding_window(image, stepSize, windowSize):\n",
    "    for y in range(0, 224, stepSize):\n",
    "        for x in range(0, 224, stepSize):   \n",
    "              yield(x, y, image[y:y+windowSize[1], x:x+windowSize[0]])"
   ]
  },
  {
   "cell_type": "code",
   "execution_count": 78,
   "metadata": {},
   "outputs": [
    {
     "ename": "TypeError",
     "evalue": "listdir: path should be string, bytes, os.PathLike or None, not VOCDetection",
     "output_type": "error",
     "traceback": [
      "\u001b[1;31m---------------------------------------------------------------------------\u001b[0m",
      "\u001b[1;31mTypeError\u001b[0m                                 Traceback (most recent call last)",
      "\u001b[1;32m<ipython-input-78-a76e5a372b9f>\u001b[0m in \u001b[0;36m<module>\u001b[1;34m\u001b[0m\n\u001b[0;32m     14\u001b[0m \u001b[0mvoc_dataset\u001b[0m \u001b[1;33m=\u001b[0m \u001b[0mgluoncv\u001b[0m\u001b[1;33m.\u001b[0m\u001b[0mdata\u001b[0m\u001b[1;33m.\u001b[0m\u001b[0mVOCDetection\u001b[0m\u001b[1;33m(\u001b[0m\u001b[0mroot\u001b[0m\u001b[1;33m=\u001b[0m\u001b[0mnegative_img_path\u001b[0m\u001b[1;33m,\u001b[0m \u001b[0msplits\u001b[0m\u001b[1;33m=\u001b[0m\u001b[1;33m[\u001b[0m\u001b[1;33m(\u001b[0m\u001b[1;36m2012\u001b[0m\u001b[1;33m,\u001b[0m \u001b[1;34m'trainval'\u001b[0m\u001b[1;33m)\u001b[0m\u001b[1;33m]\u001b[0m\u001b[1;33m)\u001b[0m\u001b[1;33m\u001b[0m\u001b[0m\n\u001b[0;32m     15\u001b[0m \u001b[1;33m\u001b[0m\u001b[0m\n\u001b[1;32m---> 16\u001b[1;33m \u001b[1;32mfor\u001b[0m \u001b[0mchildDir\u001b[0m \u001b[1;32min\u001b[0m \u001b[0mos\u001b[0m\u001b[1;33m.\u001b[0m\u001b[0mlistdir\u001b[0m\u001b[1;33m(\u001b[0m\u001b[0mvoc_dataset\u001b[0m\u001b[1;33m)\u001b[0m\u001b[1;33m:\u001b[0m\u001b[1;33m\u001b[0m\u001b[0m\n\u001b[0m\u001b[0;32m     17\u001b[0m     \u001b[0mf\u001b[0m \u001b[1;33m=\u001b[0m \u001b[0mos\u001b[0m\u001b[1;33m.\u001b[0m\u001b[0mpath\u001b[0m\u001b[1;33m.\u001b[0m\u001b[0mjoin\u001b[0m\u001b[1;33m(\u001b[0m\u001b[0mnegative_img_path\u001b[0m\u001b[1;33m,\u001b[0m \u001b[0mchildDir\u001b[0m\u001b[1;33m)\u001b[0m\u001b[1;33m\u001b[0m\u001b[0m\n\u001b[0;32m     18\u001b[0m     \u001b[0mdata\u001b[0m \u001b[1;33m=\u001b[0m \u001b[0mcv2\u001b[0m\u001b[1;33m.\u001b[0m\u001b[0mimread\u001b[0m\u001b[1;33m(\u001b[0m\u001b[0mf\u001b[0m\u001b[1;33m)\u001b[0m\u001b[1;33m\u001b[0m\u001b[0m\n",
      "\u001b[1;31mTypeError\u001b[0m: listdir: path should be string, bytes, os.PathLike or None, not VOCDetection"
     ]
    }
   ],
   "source": [
    "normalize = True\n",
    "visualize = False\n",
    "block_norm = 'L2-Hys'\n",
    "cells_per_block = [2,2]\n",
    "pixels_per_cell = [5,5]\n",
    "orientations = 9\n",
    "new_model_path = './models/svm'\n",
    "HOG = []\n",
    "result = [] \n",
    "negative_img_path = 'C:/ZZF/SVM/VOCtrainval_11-May-2012/VOCdevkit'\n",
    "\n",
    "clf = ssv.SVC(kernel='linear', C = 0.6 , gamma = 20, decision_function_shape='ovo')\n",
    "\n",
    "voc_dataset = gluoncv.data.VOCDetection(root=negative_img_path, splits=[(2012, 'trainval')])\n",
    "\n",
    "for childDir in os.listdir(voc_dataset):\n",
    "    f = os.path.join(negative_img_path, childDir)\n",
    "    data = cv2.imread(f)\n",
    "    #plt.imshow(f)\n",
    "    scales = [(100, 100), (200,200)]\n",
    "\n",
    "    for winW,winH in scales:\n",
    "        for (x, y, window) in sliding_window(data, stepSize=10, windowSize=(winW,winH)):\n",
    "            result = 0    \n",
    "            window = cv2.resize(window,(224,224),interpolation=cv2.INTER_CUBIC) \n",
    "            gray = cv2.cvtColor(window, cv2.COLOR_BGR2GRAY)\n",
    "            window_fd = hog(gray, orientations, pixels_per_cell, cells_per_block, block_norm, visualize, normalize)\n",
    "            print(window_fd)\n",
    "            result = int(clf.predict(window_fd))\n",
    "\n",
    "            if result >= 0.5:\n",
    "                HOG.append(window_fd)\n",
    "                result.append(result)\n",
    "\n",
    "New_clf = trainSvm(HOG, result)\n",
    "joblib.dump(new_clf, new_model_path)\n",
    "print (\"Classifier saved to {}\".format(new_model_path))"
   ]
  },
  {
   "cell_type": "code",
   "execution_count": null,
   "metadata": {},
   "outputs": [],
   "source": []
  }
 ],
 "metadata": {
  "kernelspec": {
   "display_name": "Python 3",
   "language": "python",
   "name": "python3"
  },
  "language_info": {
   "codemirror_mode": {
    "name": "ipython",
    "version": 3
   },
   "file_extension": ".py",
   "mimetype": "text/x-python",
   "name": "python",
   "nbconvert_exporter": "python",
   "pygments_lexer": "ipython3",
   "version": "3.6.7"
  },
  "latex_envs": {
   "LaTeX_envs_menu_present": true,
   "autoclose": true,
   "autocomplete": true,
   "bibliofile": "biblio.bib",
   "cite_by": "apalike",
   "current_citInitial": 1,
   "eqLabelWithNumbers": true,
   "eqNumInitial": 1,
   "hotkeys": {
    "equation": "Ctrl-E",
    "itemize": "Ctrl-I"
   },
   "labels_anchors": false,
   "latex_user_defs": false,
   "report_style_numbering": false,
   "user_envs_cfg": false
  },
  "varInspector": {
   "cols": {
    "lenName": 16,
    "lenType": 16,
    "lenVar": 40
   },
   "kernels_config": {
    "python": {
     "delete_cmd_postfix": "",
     "delete_cmd_prefix": "del ",
     "library": "var_list.py",
     "varRefreshCmd": "print(var_dic_list())"
    },
    "r": {
     "delete_cmd_postfix": ") ",
     "delete_cmd_prefix": "rm(",
     "library": "var_list.r",
     "varRefreshCmd": "cat(var_dic_list()) "
    }
   },
   "types_to_exclude": [
    "module",
    "function",
    "builtin_function_or_method",
    "instance",
    "_Feature"
   ],
   "window_display": false
  }
 },
 "nbformat": 4,
 "nbformat_minor": 2
}
